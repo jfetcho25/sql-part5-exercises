{
    "metadata": {
        "kernelspec": {
            "name": "SQL",
            "display_name": "SQL",
            "language": "sql"
        },
        "language_info": {
            "name": "sql",
            "version": ""
        }
    },
    "nbformat_minor": 2,
    "nbformat": 4,
    "cells": [
        {
            "cell_type": "markdown",
            "source": [
                "# Exercises: Creating, Updating, and Destroying Objects\n",
                "\n",
                "For the exercises, you will be working with objects and data you create. Before opening this notebook, make sure that you have set up the new connection to the server and that you have located the database and your schema.\n",
                "\n",
                "## Object Creation\n",
                "\n",
                "Before coding, think of three things you want to make. These could be coding projects, new recipes, or planned projects for a woodworking hobby. Brainstorm the appropriate column names and data types as well.\n",
                "\n",
                "Create a table under your schema called `planned_makes`."
            ],
            "metadata": {
                "azdata_cell_guid": "9d51c166-0c19-4f27-a422-2a6cf596bfb2"
            },
            "attachments": {}
        },
        {
            "cell_type": "code",
            "source": [
                "CREATE TABLE jenni.planned_make(\n",
                "  recipes_names VARCHAR(50) PRIMARY KEY NOT NULL,\n",
                "  recipes VARCHAR(500) NOT NULL,\n",
                "  score VARCHAR(2) NOT NULL,\n",
                ")\n",
                ""
            ],
            "metadata": {
                "azdata_cell_guid": "d9238911-6f81-4f01-980d-b584307effaf",
                "language": "sql",
                "tags": []
            },
            "outputs": [
                {
                    "output_type": "display_data",
                    "data": {
                        "text/html": "Commands completed successfully."
                    },
                    "metadata": {}
                },
                {
                    "output_type": "display_data",
                    "data": {
                        "text/html": "Total execution time: 00:00:00.036"
                    },
                    "metadata": {}
                }
            ],
            "execution_count": 34
        },
        {
            "cell_type": "markdown",
            "source": [
                "Add three rows to your table that are your planned makes."
            ],
            "metadata": {
                "azdata_cell_guid": "83cdf34d-8c4f-4fa1-a14e-77384b19d734"
            }
        },
        {
            "cell_type": "code",
            "source": [
                "INSERT INTO jenni.planned_make\n",
                "VALUES \n",
                "('cinnamon rolls', 'kanoivaonwe', '3'),\n",
                "('apple rolls', 'laskdfjoijwefa', '4');\n",
                ""
            ],
            "metadata": {
                "azdata_cell_guid": "e7cff9cb-87ba-4c7b-98f2-eaf445e8719c",
                "language": "sql",
                "tags": []
            },
            "outputs": [
                {
                    "output_type": "display_data",
                    "data": {
                        "text/html": "(2 rows affected)"
                    },
                    "metadata": {}
                },
                {
                    "output_type": "display_data",
                    "data": {
                        "text/html": "Total execution time: 00:00:00.040"
                    },
                    "metadata": {}
                }
            ],
            "execution_count": 42
        },
        {
            "cell_type": "code",
            "source": [
                "SELECT *\n",
                "FROM jenni.planned_make"
            ],
            "metadata": {
                "language": "sql",
                "azdata_cell_guid": "e553772e-21a5-46f6-839b-b1c70475820d"
            },
            "outputs": [
                {
                    "output_type": "display_data",
                    "data": {
                        "text/html": "(3 rows affected)"
                    },
                    "metadata": {}
                },
                {
                    "output_type": "display_data",
                    "data": {
                        "text/html": "Total execution time: 00:00:00.036"
                    },
                    "metadata": {}
                },
                {
                    "output_type": "execute_result",
                    "metadata": {},
                    "execution_count": 43,
                    "data": {
                        "application/vnd.dataresource+json": {
                            "schema": {
                                "fields": [
                                    {
                                        "name": "recipes_names"
                                    },
                                    {
                                        "name": "recipes"
                                    },
                                    {
                                        "name": "score"
                                    }
                                ]
                            },
                            "data": [
                                {
                                    "recipes_names": "apple rolls",
                                    "recipes": "laskdfjoijwefa",
                                    "score": "4"
                                },
                                {
                                    "recipes_names": "caramel rolls",
                                    "recipes": "a,skcunweoi",
                                    "score": "5"
                                },
                                {
                                    "recipes_names": "cinnamon rolls",
                                    "recipes": "kanoivaonwe",
                                    "score": "3"
                                }
                            ]
                        },
                        "text/html": [
                            "<table>",
                            "<tr><th>recipes_names</th><th>recipes</th><th>score</th></tr>",
                            "<tr><td>apple rolls</td><td>laskdfjoijwefa</td><td>4</td></tr>",
                            "<tr><td>caramel rolls</td><td>a,skcunweoi</td><td>5</td></tr>",
                            "<tr><td>cinnamon rolls</td><td>kanoivaonwe</td><td>3</td></tr>",
                            "</table>"
                        ]
                    }
                }
            ],
            "execution_count": 43
        },
        {
            "cell_type": "markdown",
            "source": [
                "## Update a Row\n",
                "\n",
                "Change different values in one of your three rows."
            ],
            "metadata": {
                "azdata_cell_guid": "4a39b8d4-ae97-4e09-8336-c5fc6a00d76c"
            },
            "attachments": {}
        },
        {
            "cell_type": "code",
            "source": [
                "UPDATE jenni.planned_make\n",
                "SET recipes_names='caramel apple rolls'\n",
                "WHERE score=4"
            ],
            "metadata": {
                "azdata_cell_guid": "7409c695-9581-4ad8-b03a-574d2c4c87cb",
                "language": "sql"
            },
            "outputs": [
                {
                    "output_type": "display_data",
                    "data": {
                        "text/html": "(1 row affected)"
                    },
                    "metadata": {}
                },
                {
                    "output_type": "display_data",
                    "data": {
                        "text/html": "Total execution time: 00:00:00.041"
                    },
                    "metadata": {}
                }
            ],
            "execution_count": 44
        },
        {
            "cell_type": "code",
            "source": [
                "SELECT *\n",
                "FROM jenni.planned_make"
            ],
            "metadata": {
                "language": "sql",
                "azdata_cell_guid": "966783f0-3def-4e38-bc82-b4a8ca9e3a82"
            },
            "outputs": [
                {
                    "output_type": "display_data",
                    "data": {
                        "text/html": "(3 rows affected)"
                    },
                    "metadata": {}
                },
                {
                    "output_type": "display_data",
                    "data": {
                        "text/html": "Total execution time: 00:00:00.046"
                    },
                    "metadata": {}
                },
                {
                    "output_type": "execute_result",
                    "metadata": {},
                    "execution_count": 45,
                    "data": {
                        "application/vnd.dataresource+json": {
                            "schema": {
                                "fields": [
                                    {
                                        "name": "recipes_names"
                                    },
                                    {
                                        "name": "recipes"
                                    },
                                    {
                                        "name": "score"
                                    }
                                ]
                            },
                            "data": [
                                {
                                    "recipes_names": "caramel apple rolls",
                                    "recipes": "laskdfjoijwefa",
                                    "score": "4"
                                },
                                {
                                    "recipes_names": "caramel rolls",
                                    "recipes": "a,skcunweoi",
                                    "score": "5"
                                },
                                {
                                    "recipes_names": "cinnamon rolls",
                                    "recipes": "kanoivaonwe",
                                    "score": "3"
                                }
                            ]
                        },
                        "text/html": [
                            "<table>",
                            "<tr><th>recipes_names</th><th>recipes</th><th>score</th></tr>",
                            "<tr><td>caramel apple rolls</td><td>laskdfjoijwefa</td><td>4</td></tr>",
                            "<tr><td>caramel rolls</td><td>a,skcunweoi</td><td>5</td></tr>",
                            "<tr><td>cinnamon rolls</td><td>kanoivaonwe</td><td>3</td></tr>",
                            "</table>"
                        ]
                    }
                }
            ],
            "execution_count": 45
        },
        {
            "cell_type": "markdown",
            "source": [
                "## Delete a Row\n",
                "\n",
                "Delete one of the rows from your table."
            ],
            "metadata": {
                "azdata_cell_guid": "95e91a6e-9038-42d9-9401-5738842aba17"
            }
        },
        {
            "cell_type": "code",
            "source": [
                "DELETE FROM jenni.planned_make\n",
                "WHERE score=3"
            ],
            "metadata": {
                "azdata_cell_guid": "749c748f-19b5-4c69-9004-b6b20216616a",
                "language": "sql"
            },
            "outputs": [
                {
                    "output_type": "display_data",
                    "data": {
                        "text/html": "(1 row affected)"
                    },
                    "metadata": {}
                },
                {
                    "output_type": "display_data",
                    "data": {
                        "text/html": "Total execution time: 00:00:00.042"
                    },
                    "metadata": {}
                }
            ],
            "execution_count": 46
        },
        {
            "cell_type": "code",
            "source": [
                "SELECT *\n",
                "FROM jenni.planned_make"
            ],
            "metadata": {
                "language": "sql",
                "azdata_cell_guid": "8673783a-3816-4c4b-aa88-a07ce55fbbf0"
            },
            "outputs": [
                {
                    "output_type": "display_data",
                    "data": {
                        "text/html": "(2 rows affected)"
                    },
                    "metadata": {}
                },
                {
                    "output_type": "display_data",
                    "data": {
                        "text/html": "Total execution time: 00:00:00.036"
                    },
                    "metadata": {}
                },
                {
                    "output_type": "execute_result",
                    "metadata": {},
                    "execution_count": 47,
                    "data": {
                        "application/vnd.dataresource+json": {
                            "schema": {
                                "fields": [
                                    {
                                        "name": "recipes_names"
                                    },
                                    {
                                        "name": "recipes"
                                    },
                                    {
                                        "name": "score"
                                    }
                                ]
                            },
                            "data": [
                                {
                                    "recipes_names": "caramel apple rolls",
                                    "recipes": "laskdfjoijwefa",
                                    "score": "4"
                                },
                                {
                                    "recipes_names": "caramel rolls",
                                    "recipes": "a,skcunweoi",
                                    "score": "5"
                                }
                            ]
                        },
                        "text/html": [
                            "<table>",
                            "<tr><th>recipes_names</th><th>recipes</th><th>score</th></tr>",
                            "<tr><td>caramel apple rolls</td><td>laskdfjoijwefa</td><td>4</td></tr>",
                            "<tr><td>caramel rolls</td><td>a,skcunweoi</td><td>5</td></tr>",
                            "</table>"
                        ]
                    }
                }
            ],
            "execution_count": 47
        },
        {
            "cell_type": "markdown",
            "source": [
                "## Drop the Table\n",
                "\n",
                "While this has been fun, it is time to drop the table!"
            ],
            "metadata": {
                "azdata_cell_guid": "2239cb09-137b-4579-905b-1aa020793181"
            },
            "attachments": {}
        },
        {
            "cell_type": "code",
            "source": [
                "DROP TABLE jenni.planned_make"
            ],
            "metadata": {
                "azdata_cell_guid": "b3c7f6ea-ee26-46b3-9c2a-2f7a82c39699",
                "language": "sql"
            },
            "outputs": [
                {
                    "output_type": "display_data",
                    "data": {
                        "text/html": "Commands completed successfully."
                    },
                    "metadata": {}
                },
                {
                    "output_type": "display_data",
                    "data": {
                        "text/html": "Total execution time: 00:00:00.035"
                    },
                    "metadata": {}
                }
            ],
            "execution_count": 48
        },
        {
            "cell_type": "code",
            "source": [
                "SELECT *\n",
                "FROM jenni.planned_make"
            ],
            "metadata": {
                "language": "sql",
                "azdata_cell_guid": "34db3a18-9e0b-454f-82f3-c575e90a1ded"
            },
            "outputs": [
                {
                    "output_type": "error",
                    "evalue": "Msg 208, Level 16, State 1, Line 1\nInvalid object name 'jenni.planned_make'.",
                    "ename": "",
                    "traceback": []
                },
                {
                    "output_type": "display_data",
                    "data": {
                        "text/html": "Total execution time: 00:00:00.034"
                    },
                    "metadata": {}
                }
            ],
            "execution_count": 49
        }
    ]
}